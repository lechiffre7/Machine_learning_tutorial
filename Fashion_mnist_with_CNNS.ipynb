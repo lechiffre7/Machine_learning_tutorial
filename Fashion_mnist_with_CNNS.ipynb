{
 "cells": [
  {
   "cell_type": "markdown",
   "id": "6de72fa7-bf14-401e-9797-9ab48f0f58d7",
   "metadata": {},
   "source": [
    "### Installation des librairies"
   ]
  },
  {
   "cell_type": "code",
   "execution_count": 1,
   "id": "c5c78c54-5a95-4473-9df0-e1dfd92cc7c1",
   "metadata": {},
   "outputs": [],
   "source": [
    "import tensorflow as tf\n",
    "\n",
    "#import tensorflow datasets\n",
    "import tensorflow_datasets as tfds\n",
    "tfds.disable_progress_bar()\n",
    "\n",
    "import math\n",
    "import numpy as np\n",
    "import matplotlib.pyplot as plt\n",
    "\n",
    "import logging\n",
    "logger = tf.get_logger()\n",
    "logger.setLevel(logging.ERROR)"
   ]
  },
  {
   "cell_type": "code",
   "execution_count": 2,
   "id": "918425a5-b5b4-41ed-9d2a-0c2b575333a0",
   "metadata": {},
   "outputs": [],
   "source": [
    "# importer le Fashion MNIST dataset.\n",
    "\n",
    "dataset, metadata = tfds.load('fashion_mnist', as_supervised=True, with_info=True)\n",
    "train_dataset, test_dataset = dataset['train'], dataset['test']"
   ]
  },
  {
   "cell_type": "code",
   "execution_count": 3,
   "id": "7ae42569-e6d5-4270-b7e3-1549fb9b15cb",
   "metadata": {},
   "outputs": [
    {
     "name": "stdout",
     "output_type": "stream",
     "text": [
      "Class name: ['T-shirt/top', 'Trouser', 'Pullover', 'Dress', 'Coat', 'Sandal', 'Shirt', 'Sneaker', 'Bag', 'Ankle boot']\n"
     ]
    }
   ],
   "source": [
    "class_names = metadata.features['label'].names\n",
    "print(\"Class name: {}\".format(class_names))"
   ]
  },
  {
   "cell_type": "markdown",
   "id": "6b50a159-d63a-4394-9008-49fabb4d2517",
   "metadata": {},
   "source": [
    "### Exploration de données"
   ]
  },
  {
   "cell_type": "code",
   "execution_count": 5,
   "id": "ac91e4c2-5de4-4a0b-8991-917668ea613c",
   "metadata": {},
   "outputs": [
    {
     "name": "stdout",
     "output_type": "stream",
     "text": [
      "number of training examples: 60000\n",
      "number of testing examples: 10000\n"
     ]
    }
   ],
   "source": [
    "# Explorons d'abord le format des données avant l'entrainement du modele, la suite montre qu'il y'a 60000 image dans le train set et \n",
    "# 10000 images dans le test set\n",
    "\n",
    "num_train_examples = metadata.splits['train'].num_examples\n",
    "num_test_examples = metadata.splits['test'].num_examples\n",
    "print(\"number of training examples: {}\".format(num_train_examples))\n",
    "print(\"number of testing examples: {}\".format(num_test_examples))"
   ]
  },
  {
   "cell_type": "markdown",
   "id": "d96567f8-fb3c-414a-84ac-fc7bb768e296",
   "metadata": {},
   "source": [
    "### Pré-traitement de données\n",
    "la valeur de chaque pixel dans les données d'images est un entier compris entre [0, 255] pour que le model travail proprement dans ce travail nous allons normaliser les valeurs dans [0, 1]. donc nous crayons une fonction de normalisation, et l'appliquons sur chaque image du train et du test set."
   ]
  },
  {
   "cell_type": "code",
   "execution_count": 6,
   "id": "184c3287-5c0f-4dd6-a9f3-f861dac8659b",
   "metadata": {},
   "outputs": [],
   "source": [
    "def normalize(images, labels):\n",
    "    images = tf.cast(images, tf.float32)\n",
    "    images /= 255\n",
    "    return images, labels\n",
    "\n",
    "# The map function applies the normalize function to each element in the train\n",
    "# and test datasets\n",
    "train_dataset =  train_dataset.map(normalize)\n",
    "test_dataset  =  test_dataset.map(normalize)\n",
    "\n",
    "# The first time you use the dataset, the images will be loaded from disk\n",
    "# Caching will keep them in memory, making training faster\n",
    "\n",
    "train_dataset =  train_dataset.cache()\n",
    "test_dataset  =  test_dataset.cache()"
   ]
  },
  {
   "cell_type": "code",
   "execution_count": 7,
   "id": "2558c173-e0a5-4e70-ac24-c0d2615a4a78",
   "metadata": {},
   "outputs": [
    {
     "data": {
      "image/png": "[encoded data removed]",
      "text/plain": [
       "<Figure size 640x480 with 2 Axes>"
      ]
     },
     "metadata": {},
     "output_type": "display_data"
    }
   ],
   "source": [
    "# retirons la dimension couleur et faisons un reshape\n",
    "\n",
    "for image, label in test_dataset.take(1):\n",
    "    break\n",
    "image = image.numpy().reshape((28, 28))\n",
    "\n",
    "# Représentation de l'image\n",
    "\n",
    "plt.figure()\n",
    "plt.imshow(image, cmap=plt.cm.binary)\n",
    "plt.colorbar()\n",
    "plt.grid(False)\n",
    "plt.show()"
   ]
  },
  {
   "cell_type": "markdown",
   "id": "93b9ecb1-fb07-4eb6-b075-c13e35868c85",
   "metadata": {},
   "source": [
    "### Construction du modele"
   ]
  },
  {
   "cell_type": "code",
   "execution_count": 9,
   "id": "4f1a0b96-6f60-4994-a8bc-adee36b7ba0c",
   "metadata": {},
   "outputs": [],
   "source": [
    "model = tf.keras.Sequential([\n",
    "    tf.keras.layers.Conv2D(32, (3,3), padding='same', activation=tf.nn.relu,\n",
    "                           input_shape=(28, 28, 1)),\n",
    "    tf.keras.layers.MaxPooling2D((2, 2), strides=2),\n",
    "    tf.keras.layers.Conv2D(64, (3,3), padding='same', activation=tf.nn.relu),\n",
    "    tf.keras.layers.MaxPooling2D((2, 2), strides=2),\n",
    "    tf.keras.layers.Flatten(),\n",
    "    tf.keras.layers.Dense(128, activation=tf.nn.relu),\n",
    "    tf.keras.layers.Dense(10, activation=tf.nn.softmax)\n",
    "    ])"
   ]
  },
  {
   "cell_type": "code",
   "execution_count": 10,
   "id": "542aa451-5a08-48c4-8a11-2ca5636bcd71",
   "metadata": {},
   "outputs": [],
   "source": [
    "#Compilation du modele\n",
    "\n",
    "model.compile(optimizer='adam',\n",
    "              loss=tf.keras.losses.SparseCategoricalCrossentropy(),\n",
    "              metrics=['accuracy'])"
   ]
  },
  {
   "cell_type": "code",
   "execution_count": null,
   "id": "828f109f-5af9-4a79-983c-d0865bc317d3",
   "metadata": {},
   "outputs": [],
   "source": []
  }
 ],
 "metadata": {
  "kernelspec": {
   "display_name": "Python 3 (ipykernel)",
   "language": "python",
   "name": "python3"
  },
  "language_info": {
   "codemirror_mode": {
    "name": "ipython",
    "version": 3
   },
   "file_extension": ".py",
   "mimetype": "text/x-python",
   "name": "python",
   "nbconvert_exporter": "python",
   "pygments_lexer": "ipython3",
   "version": "3.9.13"
  }
 },
 "nbformat": 4,
 "nbformat_minor": 5
}
